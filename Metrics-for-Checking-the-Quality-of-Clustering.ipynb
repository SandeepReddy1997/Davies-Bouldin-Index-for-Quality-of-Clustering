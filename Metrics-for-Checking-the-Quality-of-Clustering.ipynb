{
 "cells": [
  {
   "cell_type": "code",
   "execution_count": 1,
   "metadata": {},
   "outputs": [],
   "source": [
    "import pandas as pd\n",
    "pd.set_option('max_columns', 25)\n",
    "pd.set_option('max_rows', 1000)\n",
    "import numpy as np\n",
    "from sklearn.cluster import k_means, KMeans\n",
    "from sklearn.metrics import davies_bouldin_score, silhouette_score, calinski_harabasz_score\n",
    "import matplotlib.pyplot as plt\n",
    "from scipy import stats\n",
    "import seaborn as sns\n",
    "from statsmodels.stats.outliers_influence import variance_inflation_factor\n",
    "from sklearn import preprocessing"
   ]
  },
  {
   "cell_type": "code",
   "execution_count": 2,
   "metadata": {
    "scrolled": true
   },
   "outputs": [
    {
     "data": {
      "text/html": [
       "<div>\n",
       "<style scoped>\n",
       "    .dataframe tbody tr th:only-of-type {\n",
       "        vertical-align: middle;\n",
       "    }\n",
       "\n",
       "    .dataframe tbody tr th {\n",
       "        vertical-align: top;\n",
       "    }\n",
       "\n",
       "    .dataframe thead th {\n",
       "        text-align: right;\n",
       "    }\n",
       "</style>\n",
       "<table border=\"1\" class=\"dataframe\">\n",
       "  <thead>\n",
       "    <tr style=\"text-align: right;\">\n",
       "      <th></th>\n",
       "      <th>Customer</th>\n",
       "      <th>State</th>\n",
       "      <th>Customer Lifetime Value</th>\n",
       "      <th>Response</th>\n",
       "      <th>Coverage</th>\n",
       "      <th>Education</th>\n",
       "      <th>Effective To Date</th>\n",
       "      <th>EmploymentStatus</th>\n",
       "      <th>Gender</th>\n",
       "      <th>Income</th>\n",
       "      <th>Location Code</th>\n",
       "      <th>Marital Status</th>\n",
       "      <th>Monthly Premium Auto</th>\n",
       "      <th>Months Since Last Claim</th>\n",
       "      <th>Months Since Policy Inception</th>\n",
       "      <th>Number of Open Complaints</th>\n",
       "      <th>Number of Policies</th>\n",
       "      <th>Policy Type</th>\n",
       "      <th>Policy</th>\n",
       "      <th>Renew Offer Type</th>\n",
       "      <th>Sales Channel</th>\n",
       "      <th>Total Claim Amount</th>\n",
       "      <th>Vehicle Class</th>\n",
       "      <th>Vehicle Size</th>\n",
       "    </tr>\n",
       "  </thead>\n",
       "  <tbody>\n",
       "    <tr>\n",
       "      <td>0</td>\n",
       "      <td>BU79786</td>\n",
       "      <td>Washington</td>\n",
       "      <td>2763.519279</td>\n",
       "      <td>No</td>\n",
       "      <td>Basic</td>\n",
       "      <td>Bachelor</td>\n",
       "      <td>2/24/11</td>\n",
       "      <td>Employed</td>\n",
       "      <td>F</td>\n",
       "      <td>56274.0</td>\n",
       "      <td>Suburban</td>\n",
       "      <td>Married</td>\n",
       "      <td>69.0</td>\n",
       "      <td>32.0</td>\n",
       "      <td>5.0</td>\n",
       "      <td>0.0</td>\n",
       "      <td>1.0</td>\n",
       "      <td>Corporate Auto</td>\n",
       "      <td>Corporate L3</td>\n",
       "      <td>Offer1</td>\n",
       "      <td>Agent</td>\n",
       "      <td>384.811147</td>\n",
       "      <td>Two-Door Car</td>\n",
       "      <td>Medsize</td>\n",
       "    </tr>\n",
       "    <tr>\n",
       "      <td>1</td>\n",
       "      <td>QZ44356</td>\n",
       "      <td>Arizona</td>\n",
       "      <td>6979.535903</td>\n",
       "      <td>No</td>\n",
       "      <td>Extended</td>\n",
       "      <td>Bachelor</td>\n",
       "      <td>1/31/11</td>\n",
       "      <td>Unemployed</td>\n",
       "      <td>F</td>\n",
       "      <td>0.0</td>\n",
       "      <td>Suburban</td>\n",
       "      <td>Single</td>\n",
       "      <td>94.0</td>\n",
       "      <td>13.0</td>\n",
       "      <td>42.0</td>\n",
       "      <td>0.0</td>\n",
       "      <td>8.0</td>\n",
       "      <td>Personal Auto</td>\n",
       "      <td>Personal L3</td>\n",
       "      <td>Offer3</td>\n",
       "      <td>Agent</td>\n",
       "      <td>1131.464935</td>\n",
       "      <td>Four-Door Car</td>\n",
       "      <td>Medsize</td>\n",
       "    </tr>\n",
       "    <tr>\n",
       "      <td>2</td>\n",
       "      <td>AI49188</td>\n",
       "      <td>Nevada</td>\n",
       "      <td>12887.431650</td>\n",
       "      <td>No</td>\n",
       "      <td>Premium</td>\n",
       "      <td>Bachelor</td>\n",
       "      <td>2/19/11</td>\n",
       "      <td>Employed</td>\n",
       "      <td>F</td>\n",
       "      <td>48767.0</td>\n",
       "      <td>Suburban</td>\n",
       "      <td>Married</td>\n",
       "      <td>108.0</td>\n",
       "      <td>18.0</td>\n",
       "      <td>38.0</td>\n",
       "      <td>0.0</td>\n",
       "      <td>2.0</td>\n",
       "      <td>Personal Auto</td>\n",
       "      <td>Personal L3</td>\n",
       "      <td>Offer1</td>\n",
       "      <td>Agent</td>\n",
       "      <td>566.472247</td>\n",
       "      <td>Two-Door Car</td>\n",
       "      <td>Medsize</td>\n",
       "    </tr>\n",
       "    <tr>\n",
       "      <td>3</td>\n",
       "      <td>WW63253</td>\n",
       "      <td>California</td>\n",
       "      <td>7645.861827</td>\n",
       "      <td>No</td>\n",
       "      <td>Basic</td>\n",
       "      <td>Bachelor</td>\n",
       "      <td>1/20/11</td>\n",
       "      <td>Unemployed</td>\n",
       "      <td>M</td>\n",
       "      <td>0.0</td>\n",
       "      <td>Suburban</td>\n",
       "      <td>Married</td>\n",
       "      <td>106.0</td>\n",
       "      <td>18.0</td>\n",
       "      <td>65.0</td>\n",
       "      <td>0.0</td>\n",
       "      <td>7.0</td>\n",
       "      <td>Corporate Auto</td>\n",
       "      <td>Corporate L2</td>\n",
       "      <td>Offer1</td>\n",
       "      <td>Call Center</td>\n",
       "      <td>529.881344</td>\n",
       "      <td>SUV</td>\n",
       "      <td>Medsize</td>\n",
       "    </tr>\n",
       "    <tr>\n",
       "      <td>4</td>\n",
       "      <td>HB64268</td>\n",
       "      <td>Washington</td>\n",
       "      <td>2813.692575</td>\n",
       "      <td>No</td>\n",
       "      <td>Basic</td>\n",
       "      <td>Bachelor</td>\n",
       "      <td>02/03/11</td>\n",
       "      <td>Employed</td>\n",
       "      <td>M</td>\n",
       "      <td>43836.0</td>\n",
       "      <td>Rural</td>\n",
       "      <td>Single</td>\n",
       "      <td>73.0</td>\n",
       "      <td>12.0</td>\n",
       "      <td>44.0</td>\n",
       "      <td>0.0</td>\n",
       "      <td>1.0</td>\n",
       "      <td>Personal Auto</td>\n",
       "      <td>Personal L1</td>\n",
       "      <td>Offer1</td>\n",
       "      <td>Agent</td>\n",
       "      <td>138.130879</td>\n",
       "      <td>Four-Door Car</td>\n",
       "      <td>Medsize</td>\n",
       "    </tr>\n",
       "    <tr>\n",
       "      <td>...</td>\n",
       "      <td>...</td>\n",
       "      <td>...</td>\n",
       "      <td>...</td>\n",
       "      <td>...</td>\n",
       "      <td>...</td>\n",
       "      <td>...</td>\n",
       "      <td>...</td>\n",
       "      <td>...</td>\n",
       "      <td>...</td>\n",
       "      <td>...</td>\n",
       "      <td>...</td>\n",
       "      <td>...</td>\n",
       "      <td>...</td>\n",
       "      <td>...</td>\n",
       "      <td>...</td>\n",
       "      <td>...</td>\n",
       "      <td>...</td>\n",
       "      <td>...</td>\n",
       "      <td>...</td>\n",
       "      <td>...</td>\n",
       "      <td>...</td>\n",
       "      <td>...</td>\n",
       "      <td>...</td>\n",
       "      <td>...</td>\n",
       "    </tr>\n",
       "    <tr>\n",
       "      <td>8289</td>\n",
       "      <td>TQ82322</td>\n",
       "      <td>California</td>\n",
       "      <td>2438.689804</td>\n",
       "      <td>No</td>\n",
       "      <td>Basic</td>\n",
       "      <td>Bachelor</td>\n",
       "      <td>2/19/11</td>\n",
       "      <td>Employed</td>\n",
       "      <td>F</td>\n",
       "      <td>80927.0</td>\n",
       "      <td>Urban</td>\n",
       "      <td>Single</td>\n",
       "      <td>62.0</td>\n",
       "      <td>25.0</td>\n",
       "      <td>8.0</td>\n",
       "      <td>0.0</td>\n",
       "      <td>1.0</td>\n",
       "      <td>Personal Auto</td>\n",
       "      <td>Personal L2</td>\n",
       "      <td>Offer2</td>\n",
       "      <td>Branch</td>\n",
       "      <td>211.660971</td>\n",
       "      <td>Two-Door Car</td>\n",
       "      <td>Medsize</td>\n",
       "    </tr>\n",
       "    <tr>\n",
       "      <td>8290</td>\n",
       "      <td>CB77819</td>\n",
       "      <td>California</td>\n",
       "      <td>4736.347990</td>\n",
       "      <td>No</td>\n",
       "      <td>Basic</td>\n",
       "      <td>High School or Below</td>\n",
       "      <td>02/10/11</td>\n",
       "      <td>Unemployed</td>\n",
       "      <td>M</td>\n",
       "      <td>0.0</td>\n",
       "      <td>Suburban</td>\n",
       "      <td>Single</td>\n",
       "      <td>65.0</td>\n",
       "      <td>33.0</td>\n",
       "      <td>1.0</td>\n",
       "      <td>0.0</td>\n",
       "      <td>3.0</td>\n",
       "      <td>Personal Auto</td>\n",
       "      <td>Personal L3</td>\n",
       "      <td>Offer1</td>\n",
       "      <td>Web</td>\n",
       "      <td>585.454243</td>\n",
       "      <td>Two-Door Car</td>\n",
       "      <td>Medsize</td>\n",
       "    </tr>\n",
       "    <tr>\n",
       "      <td>8291</td>\n",
       "      <td>VG68427</td>\n",
       "      <td>Arizona</td>\n",
       "      <td>5608.155723</td>\n",
       "      <td>No</td>\n",
       "      <td>Basic</td>\n",
       "      <td>High School or Below</td>\n",
       "      <td>2/17/11</td>\n",
       "      <td>Employed</td>\n",
       "      <td>M</td>\n",
       "      <td>81914.0</td>\n",
       "      <td>Urban</td>\n",
       "      <td>Married</td>\n",
       "      <td>70.0</td>\n",
       "      <td>6.0</td>\n",
       "      <td>33.0</td>\n",
       "      <td>0.0</td>\n",
       "      <td>6.0</td>\n",
       "      <td>Corporate Auto</td>\n",
       "      <td>Corporate L2</td>\n",
       "      <td>Offer4</td>\n",
       "      <td>Branch</td>\n",
       "      <td>198.754660</td>\n",
       "      <td>Four-Door Car</td>\n",
       "      <td>Medsize</td>\n",
       "    </tr>\n",
       "    <tr>\n",
       "      <td>8292</td>\n",
       "      <td>WO42164</td>\n",
       "      <td>Oregon</td>\n",
       "      <td>6465.223746</td>\n",
       "      <td>No</td>\n",
       "      <td>Extended</td>\n",
       "      <td>High School or Below</td>\n",
       "      <td>02/07/11</td>\n",
       "      <td>Unemployed</td>\n",
       "      <td>M</td>\n",
       "      <td>0.0</td>\n",
       "      <td>Suburban</td>\n",
       "      <td>Single</td>\n",
       "      <td>92.0</td>\n",
       "      <td>9.0</td>\n",
       "      <td>24.0</td>\n",
       "      <td>0.0</td>\n",
       "      <td>3.0</td>\n",
       "      <td>Personal Auto</td>\n",
       "      <td>Personal L3</td>\n",
       "      <td>Offer1</td>\n",
       "      <td>Call Center</td>\n",
       "      <td>662.400000</td>\n",
       "      <td>Four-Door Car</td>\n",
       "      <td>Medsize</td>\n",
       "    </tr>\n",
       "    <tr>\n",
       "      <td>8293</td>\n",
       "      <td>NL87371</td>\n",
       "      <td>Oregon</td>\n",
       "      <td>2435.245577</td>\n",
       "      <td>No</td>\n",
       "      <td>Basic</td>\n",
       "      <td>Bachelor</td>\n",
       "      <td>1/</td>\n",
       "      <td>NaN</td>\n",
       "      <td>NaN</td>\n",
       "      <td>NaN</td>\n",
       "      <td>NaN</td>\n",
       "      <td>NaN</td>\n",
       "      <td>NaN</td>\n",
       "      <td>NaN</td>\n",
       "      <td>NaN</td>\n",
       "      <td>NaN</td>\n",
       "      <td>NaN</td>\n",
       "      <td>NaN</td>\n",
       "      <td>NaN</td>\n",
       "      <td>NaN</td>\n",
       "      <td>NaN</td>\n",
       "      <td>NaN</td>\n",
       "      <td>NaN</td>\n",
       "      <td>NaN</td>\n",
       "    </tr>\n",
       "  </tbody>\n",
       "</table>\n",
       "<p>8294 rows × 24 columns</p>\n",
       "</div>"
      ],
      "text/plain": [
       "     Customer       State  Customer Lifetime Value Response  Coverage  \\\n",
       "0     BU79786  Washington              2763.519279       No     Basic   \n",
       "1     QZ44356     Arizona              6979.535903       No  Extended   \n",
       "2     AI49188      Nevada             12887.431650       No   Premium   \n",
       "3     WW63253  California              7645.861827       No     Basic   \n",
       "4     HB64268  Washington              2813.692575       No     Basic   \n",
       "...       ...         ...                      ...      ...       ...   \n",
       "8289  TQ82322  California              2438.689804       No     Basic   \n",
       "8290  CB77819  California              4736.347990       No     Basic   \n",
       "8291  VG68427     Arizona              5608.155723       No     Basic   \n",
       "8292  WO42164      Oregon              6465.223746       No  Extended   \n",
       "8293  NL87371      Oregon              2435.245577       No     Basic   \n",
       "\n",
       "                 Education Effective To Date EmploymentStatus Gender   Income  \\\n",
       "0                 Bachelor           2/24/11         Employed      F  56274.0   \n",
       "1                 Bachelor           1/31/11       Unemployed      F      0.0   \n",
       "2                 Bachelor           2/19/11         Employed      F  48767.0   \n",
       "3                 Bachelor           1/20/11       Unemployed      M      0.0   \n",
       "4                 Bachelor          02/03/11         Employed      M  43836.0   \n",
       "...                    ...               ...              ...    ...      ...   \n",
       "8289              Bachelor           2/19/11         Employed      F  80927.0   \n",
       "8290  High School or Below          02/10/11       Unemployed      M      0.0   \n",
       "8291  High School or Below           2/17/11         Employed      M  81914.0   \n",
       "8292  High School or Below          02/07/11       Unemployed      M      0.0   \n",
       "8293              Bachelor                1/              NaN    NaN      NaN   \n",
       "\n",
       "     Location Code Marital Status  Monthly Premium Auto  \\\n",
       "0         Suburban        Married                  69.0   \n",
       "1         Suburban         Single                  94.0   \n",
       "2         Suburban        Married                 108.0   \n",
       "3         Suburban        Married                 106.0   \n",
       "4            Rural         Single                  73.0   \n",
       "...            ...            ...                   ...   \n",
       "8289         Urban         Single                  62.0   \n",
       "8290      Suburban         Single                  65.0   \n",
       "8291         Urban        Married                  70.0   \n",
       "8292      Suburban         Single                  92.0   \n",
       "8293           NaN            NaN                   NaN   \n",
       "\n",
       "      Months Since Last Claim  Months Since Policy Inception  \\\n",
       "0                        32.0                            5.0   \n",
       "1                        13.0                           42.0   \n",
       "2                        18.0                           38.0   \n",
       "3                        18.0                           65.0   \n",
       "4                        12.0                           44.0   \n",
       "...                       ...                            ...   \n",
       "8289                     25.0                            8.0   \n",
       "8290                     33.0                            1.0   \n",
       "8291                      6.0                           33.0   \n",
       "8292                      9.0                           24.0   \n",
       "8293                      NaN                            NaN   \n",
       "\n",
       "      Number of Open Complaints  Number of Policies     Policy Type  \\\n",
       "0                           0.0                 1.0  Corporate Auto   \n",
       "1                           0.0                 8.0   Personal Auto   \n",
       "2                           0.0                 2.0   Personal Auto   \n",
       "3                           0.0                 7.0  Corporate Auto   \n",
       "4                           0.0                 1.0   Personal Auto   \n",
       "...                         ...                 ...             ...   \n",
       "8289                        0.0                 1.0   Personal Auto   \n",
       "8290                        0.0                 3.0   Personal Auto   \n",
       "8291                        0.0                 6.0  Corporate Auto   \n",
       "8292                        0.0                 3.0   Personal Auto   \n",
       "8293                        NaN                 NaN             NaN   \n",
       "\n",
       "            Policy Renew Offer Type Sales Channel  Total Claim Amount  \\\n",
       "0     Corporate L3           Offer1         Agent          384.811147   \n",
       "1      Personal L3           Offer3         Agent         1131.464935   \n",
       "2      Personal L3           Offer1         Agent          566.472247   \n",
       "3     Corporate L2           Offer1   Call Center          529.881344   \n",
       "4      Personal L1           Offer1         Agent          138.130879   \n",
       "...            ...              ...           ...                 ...   \n",
       "8289   Personal L2           Offer2        Branch          211.660971   \n",
       "8290   Personal L3           Offer1           Web          585.454243   \n",
       "8291  Corporate L2           Offer4        Branch          198.754660   \n",
       "8292   Personal L3           Offer1   Call Center          662.400000   \n",
       "8293           NaN              NaN           NaN                 NaN   \n",
       "\n",
       "      Vehicle Class Vehicle Size  \n",
       "0      Two-Door Car      Medsize  \n",
       "1     Four-Door Car      Medsize  \n",
       "2      Two-Door Car      Medsize  \n",
       "3               SUV      Medsize  \n",
       "4     Four-Door Car      Medsize  \n",
       "...             ...          ...  \n",
       "8289   Two-Door Car      Medsize  \n",
       "8290   Two-Door Car      Medsize  \n",
       "8291  Four-Door Car      Medsize  \n",
       "8292  Four-Door Car      Medsize  \n",
       "8293            NaN          NaN  \n",
       "\n",
       "[8294 rows x 24 columns]"
      ]
     },
     "execution_count": 2,
     "metadata": {},
     "output_type": "execute_result"
    }
   ],
   "source": [
    "# Load Data\n",
    "raw_data = pd.read_csv(\"Dataset.csv\")\n",
    "raw_data"
   ]
  },
  {
   "cell_type": "markdown",
   "metadata": {},
   "source": [
    "## Missing value analysis"
   ]
  },
  {
   "cell_type": "code",
   "execution_count": 3,
   "metadata": {},
   "outputs": [
    {
     "data": {
      "text/plain": [
       "Customer                         0\n",
       "State                            0\n",
       "Customer Lifetime Value          0\n",
       "Response                         0\n",
       "Coverage                         0\n",
       "Education                        0\n",
       "Effective To Date                0\n",
       "EmploymentStatus                 1\n",
       "Gender                           1\n",
       "Income                           1\n",
       "Location Code                    1\n",
       "Marital Status                   1\n",
       "Monthly Premium Auto             1\n",
       "Months Since Last Claim          1\n",
       "Months Since Policy Inception    1\n",
       "Number of Open Complaints        1\n",
       "Number of Policies               1\n",
       "Policy Type                      1\n",
       "Policy                           1\n",
       "Renew Offer Type                 1\n",
       "Sales Channel                    1\n",
       "Total Claim Amount               1\n",
       "Vehicle Class                    1\n",
       "Vehicle Size                     1\n",
       "dtype: int64"
      ]
     },
     "execution_count": 3,
     "metadata": {},
     "output_type": "execute_result"
    }
   ],
   "source": [
    "# Sum of Null values in each column\n",
    "raw_data.isna().sum()"
   ]
  },
  {
   "cell_type": "code",
   "execution_count": 4,
   "metadata": {},
   "outputs": [
    {
     "data": {
      "text/plain": [
       "(8294, 24)"
      ]
     },
     "execution_count": 4,
     "metadata": {},
     "output_type": "execute_result"
    }
   ],
   "source": [
    "raw_data.shape"
   ]
  },
  {
   "cell_type": "code",
   "execution_count": 5,
   "metadata": {},
   "outputs": [
    {
     "data": {
      "text/plain": [
       "1"
      ]
     },
     "execution_count": 5,
     "metadata": {},
     "output_type": "execute_result"
    }
   ],
   "source": [
    "# Number of rows having NULL values\n",
    "raw_data.shape[0] - raw_data.dropna().shape[0]"
   ]
  },
  {
   "cell_type": "markdown",
   "metadata": {},
   "source": [
    "Since only 1 row has missing values, we will delete the row."
   ]
  },
  {
   "cell_type": "code",
   "execution_count": 6,
   "metadata": {},
   "outputs": [
    {
     "data": {
      "text/plain": [
       "(8293, 24)"
      ]
     },
     "execution_count": 6,
     "metadata": {},
     "output_type": "execute_result"
    }
   ],
   "source": [
    "# Drop rows having NULL values\n",
    "data = raw_data.dropna()\n",
    "data.shape"
   ]
  },
  {
   "cell_type": "code",
   "execution_count": 7,
   "metadata": {},
   "outputs": [],
   "source": [
    "# Make a copy of the data and then proceed.\n",
    "data1 = data.copy()\n",
    "\n",
    "# Delete Unwanted Columns\n",
    "del data1['Customer']\n",
    "del data1['Effective To Date']"
   ]
  },
  {
   "cell_type": "code",
   "execution_count": 8,
   "metadata": {},
   "outputs": [
    {
     "data": {
      "text/html": [
       "<div>\n",
       "<style scoped>\n",
       "    .dataframe tbody tr th:only-of-type {\n",
       "        vertical-align: middle;\n",
       "    }\n",
       "\n",
       "    .dataframe tbody tr th {\n",
       "        vertical-align: top;\n",
       "    }\n",
       "\n",
       "    .dataframe thead th {\n",
       "        text-align: right;\n",
       "    }\n",
       "</style>\n",
       "<table border=\"1\" class=\"dataframe\">\n",
       "  <thead>\n",
       "    <tr style=\"text-align: right;\">\n",
       "      <th></th>\n",
       "      <th>State</th>\n",
       "      <th>Customer Lifetime Value</th>\n",
       "      <th>Response</th>\n",
       "      <th>Coverage</th>\n",
       "      <th>Education</th>\n",
       "      <th>EmploymentStatus</th>\n",
       "      <th>Gender</th>\n",
       "      <th>Income</th>\n",
       "      <th>Location Code</th>\n",
       "      <th>Marital Status</th>\n",
       "      <th>Monthly Premium Auto</th>\n",
       "      <th>Months Since Last Claim</th>\n",
       "      <th>Months Since Policy Inception</th>\n",
       "      <th>Number of Open Complaints</th>\n",
       "      <th>Number of Policies</th>\n",
       "      <th>Policy Type</th>\n",
       "      <th>Policy</th>\n",
       "      <th>Renew Offer Type</th>\n",
       "      <th>Sales Channel</th>\n",
       "      <th>Total Claim Amount</th>\n",
       "      <th>Vehicle Class</th>\n",
       "      <th>Vehicle Size</th>\n",
       "    </tr>\n",
       "  </thead>\n",
       "  <tbody>\n",
       "    <tr>\n",
       "      <td>0</td>\n",
       "      <td>Washington</td>\n",
       "      <td>2763.519279</td>\n",
       "      <td>No</td>\n",
       "      <td>Basic</td>\n",
       "      <td>Bachelor</td>\n",
       "      <td>Employed</td>\n",
       "      <td>F</td>\n",
       "      <td>56274.0</td>\n",
       "      <td>Suburban</td>\n",
       "      <td>Married</td>\n",
       "      <td>69.0</td>\n",
       "      <td>32.0</td>\n",
       "      <td>5.0</td>\n",
       "      <td>0.0</td>\n",
       "      <td>1.0</td>\n",
       "      <td>Corporate Auto</td>\n",
       "      <td>Corporate L3</td>\n",
       "      <td>Offer1</td>\n",
       "      <td>Agent</td>\n",
       "      <td>384.811147</td>\n",
       "      <td>Two-Door Car</td>\n",
       "      <td>Medsize</td>\n",
       "    </tr>\n",
       "    <tr>\n",
       "      <td>1</td>\n",
       "      <td>Arizona</td>\n",
       "      <td>6979.535903</td>\n",
       "      <td>No</td>\n",
       "      <td>Extended</td>\n",
       "      <td>Bachelor</td>\n",
       "      <td>Unemployed</td>\n",
       "      <td>F</td>\n",
       "      <td>0.0</td>\n",
       "      <td>Suburban</td>\n",
       "      <td>Single</td>\n",
       "      <td>94.0</td>\n",
       "      <td>13.0</td>\n",
       "      <td>42.0</td>\n",
       "      <td>0.0</td>\n",
       "      <td>8.0</td>\n",
       "      <td>Personal Auto</td>\n",
       "      <td>Personal L3</td>\n",
       "      <td>Offer3</td>\n",
       "      <td>Agent</td>\n",
       "      <td>1131.464935</td>\n",
       "      <td>Four-Door Car</td>\n",
       "      <td>Medsize</td>\n",
       "    </tr>\n",
       "    <tr>\n",
       "      <td>2</td>\n",
       "      <td>Nevada</td>\n",
       "      <td>12887.431650</td>\n",
       "      <td>No</td>\n",
       "      <td>Premium</td>\n",
       "      <td>Bachelor</td>\n",
       "      <td>Employed</td>\n",
       "      <td>F</td>\n",
       "      <td>48767.0</td>\n",
       "      <td>Suburban</td>\n",
       "      <td>Married</td>\n",
       "      <td>108.0</td>\n",
       "      <td>18.0</td>\n",
       "      <td>38.0</td>\n",
       "      <td>0.0</td>\n",
       "      <td>2.0</td>\n",
       "      <td>Personal Auto</td>\n",
       "      <td>Personal L3</td>\n",
       "      <td>Offer1</td>\n",
       "      <td>Agent</td>\n",
       "      <td>566.472247</td>\n",
       "      <td>Two-Door Car</td>\n",
       "      <td>Medsize</td>\n",
       "    </tr>\n",
       "    <tr>\n",
       "      <td>3</td>\n",
       "      <td>California</td>\n",
       "      <td>7645.861827</td>\n",
       "      <td>No</td>\n",
       "      <td>Basic</td>\n",
       "      <td>Bachelor</td>\n",
       "      <td>Unemployed</td>\n",
       "      <td>M</td>\n",
       "      <td>0.0</td>\n",
       "      <td>Suburban</td>\n",
       "      <td>Married</td>\n",
       "      <td>106.0</td>\n",
       "      <td>18.0</td>\n",
       "      <td>65.0</td>\n",
       "      <td>0.0</td>\n",
       "      <td>7.0</td>\n",
       "      <td>Corporate Auto</td>\n",
       "      <td>Corporate L2</td>\n",
       "      <td>Offer1</td>\n",
       "      <td>Call Center</td>\n",
       "      <td>529.881344</td>\n",
       "      <td>SUV</td>\n",
       "      <td>Medsize</td>\n",
       "    </tr>\n",
       "    <tr>\n",
       "      <td>4</td>\n",
       "      <td>Washington</td>\n",
       "      <td>2813.692575</td>\n",
       "      <td>No</td>\n",
       "      <td>Basic</td>\n",
       "      <td>Bachelor</td>\n",
       "      <td>Employed</td>\n",
       "      <td>M</td>\n",
       "      <td>43836.0</td>\n",
       "      <td>Rural</td>\n",
       "      <td>Single</td>\n",
       "      <td>73.0</td>\n",
       "      <td>12.0</td>\n",
       "      <td>44.0</td>\n",
       "      <td>0.0</td>\n",
       "      <td>1.0</td>\n",
       "      <td>Personal Auto</td>\n",
       "      <td>Personal L1</td>\n",
       "      <td>Offer1</td>\n",
       "      <td>Agent</td>\n",
       "      <td>138.130879</td>\n",
       "      <td>Four-Door Car</td>\n",
       "      <td>Medsize</td>\n",
       "    </tr>\n",
       "    <tr>\n",
       "      <td>...</td>\n",
       "      <td>...</td>\n",
       "      <td>...</td>\n",
       "      <td>...</td>\n",
       "      <td>...</td>\n",
       "      <td>...</td>\n",
       "      <td>...</td>\n",
       "      <td>...</td>\n",
       "      <td>...</td>\n",
       "      <td>...</td>\n",
       "      <td>...</td>\n",
       "      <td>...</td>\n",
       "      <td>...</td>\n",
       "      <td>...</td>\n",
       "      <td>...</td>\n",
       "      <td>...</td>\n",
       "      <td>...</td>\n",
       "      <td>...</td>\n",
       "      <td>...</td>\n",
       "      <td>...</td>\n",
       "      <td>...</td>\n",
       "      <td>...</td>\n",
       "      <td>...</td>\n",
       "    </tr>\n",
       "    <tr>\n",
       "      <td>8288</td>\n",
       "      <td>Oregon</td>\n",
       "      <td>8804.584902</td>\n",
       "      <td>No</td>\n",
       "      <td>Basic</td>\n",
       "      <td>Bachelor</td>\n",
       "      <td>Employed</td>\n",
       "      <td>M</td>\n",
       "      <td>38638.0</td>\n",
       "      <td>Suburban</td>\n",
       "      <td>Married</td>\n",
       "      <td>74.0</td>\n",
       "      <td>5.0</td>\n",
       "      <td>84.0</td>\n",
       "      <td>0.0</td>\n",
       "      <td>2.0</td>\n",
       "      <td>Personal Auto</td>\n",
       "      <td>Personal L2</td>\n",
       "      <td>Offer1</td>\n",
       "      <td>Agent</td>\n",
       "      <td>355.200000</td>\n",
       "      <td>Four-Door Car</td>\n",
       "      <td>Medsize</td>\n",
       "    </tr>\n",
       "    <tr>\n",
       "      <td>8289</td>\n",
       "      <td>California</td>\n",
       "      <td>2438.689804</td>\n",
       "      <td>No</td>\n",
       "      <td>Basic</td>\n",
       "      <td>Bachelor</td>\n",
       "      <td>Employed</td>\n",
       "      <td>F</td>\n",
       "      <td>80927.0</td>\n",
       "      <td>Urban</td>\n",
       "      <td>Single</td>\n",
       "      <td>62.0</td>\n",
       "      <td>25.0</td>\n",
       "      <td>8.0</td>\n",
       "      <td>0.0</td>\n",
       "      <td>1.0</td>\n",
       "      <td>Personal Auto</td>\n",
       "      <td>Personal L2</td>\n",
       "      <td>Offer2</td>\n",
       "      <td>Branch</td>\n",
       "      <td>211.660971</td>\n",
       "      <td>Two-Door Car</td>\n",
       "      <td>Medsize</td>\n",
       "    </tr>\n",
       "    <tr>\n",
       "      <td>8290</td>\n",
       "      <td>California</td>\n",
       "      <td>4736.347990</td>\n",
       "      <td>No</td>\n",
       "      <td>Basic</td>\n",
       "      <td>High School or Below</td>\n",
       "      <td>Unemployed</td>\n",
       "      <td>M</td>\n",
       "      <td>0.0</td>\n",
       "      <td>Suburban</td>\n",
       "      <td>Single</td>\n",
       "      <td>65.0</td>\n",
       "      <td>33.0</td>\n",
       "      <td>1.0</td>\n",
       "      <td>0.0</td>\n",
       "      <td>3.0</td>\n",
       "      <td>Personal Auto</td>\n",
       "      <td>Personal L3</td>\n",
       "      <td>Offer1</td>\n",
       "      <td>Web</td>\n",
       "      <td>585.454243</td>\n",
       "      <td>Two-Door Car</td>\n",
       "      <td>Medsize</td>\n",
       "    </tr>\n",
       "    <tr>\n",
       "      <td>8291</td>\n",
       "      <td>Arizona</td>\n",
       "      <td>5608.155723</td>\n",
       "      <td>No</td>\n",
       "      <td>Basic</td>\n",
       "      <td>High School or Below</td>\n",
       "      <td>Employed</td>\n",
       "      <td>M</td>\n",
       "      <td>81914.0</td>\n",
       "      <td>Urban</td>\n",
       "      <td>Married</td>\n",
       "      <td>70.0</td>\n",
       "      <td>6.0</td>\n",
       "      <td>33.0</td>\n",
       "      <td>0.0</td>\n",
       "      <td>6.0</td>\n",
       "      <td>Corporate Auto</td>\n",
       "      <td>Corporate L2</td>\n",
       "      <td>Offer4</td>\n",
       "      <td>Branch</td>\n",
       "      <td>198.754660</td>\n",
       "      <td>Four-Door Car</td>\n",
       "      <td>Medsize</td>\n",
       "    </tr>\n",
       "    <tr>\n",
       "      <td>8292</td>\n",
       "      <td>Oregon</td>\n",
       "      <td>6465.223746</td>\n",
       "      <td>No</td>\n",
       "      <td>Extended</td>\n",
       "      <td>High School or Below</td>\n",
       "      <td>Unemployed</td>\n",
       "      <td>M</td>\n",
       "      <td>0.0</td>\n",
       "      <td>Suburban</td>\n",
       "      <td>Single</td>\n",
       "      <td>92.0</td>\n",
       "      <td>9.0</td>\n",
       "      <td>24.0</td>\n",
       "      <td>0.0</td>\n",
       "      <td>3.0</td>\n",
       "      <td>Personal Auto</td>\n",
       "      <td>Personal L3</td>\n",
       "      <td>Offer1</td>\n",
       "      <td>Call Center</td>\n",
       "      <td>662.400000</td>\n",
       "      <td>Four-Door Car</td>\n",
       "      <td>Medsize</td>\n",
       "    </tr>\n",
       "  </tbody>\n",
       "</table>\n",
       "<p>8293 rows × 22 columns</p>\n",
       "</div>"
      ],
      "text/plain": [
       "           State  Customer Lifetime Value Response  Coverage  \\\n",
       "0     Washington              2763.519279       No     Basic   \n",
       "1        Arizona              6979.535903       No  Extended   \n",
       "2         Nevada             12887.431650       No   Premium   \n",
       "3     California              7645.861827       No     Basic   \n",
       "4     Washington              2813.692575       No     Basic   \n",
       "...          ...                      ...      ...       ...   \n",
       "8288      Oregon              8804.584902       No     Basic   \n",
       "8289  California              2438.689804       No     Basic   \n",
       "8290  California              4736.347990       No     Basic   \n",
       "8291     Arizona              5608.155723       No     Basic   \n",
       "8292      Oregon              6465.223746       No  Extended   \n",
       "\n",
       "                 Education EmploymentStatus Gender   Income Location Code  \\\n",
       "0                 Bachelor         Employed      F  56274.0      Suburban   \n",
       "1                 Bachelor       Unemployed      F      0.0      Suburban   \n",
       "2                 Bachelor         Employed      F  48767.0      Suburban   \n",
       "3                 Bachelor       Unemployed      M      0.0      Suburban   \n",
       "4                 Bachelor         Employed      M  43836.0         Rural   \n",
       "...                    ...              ...    ...      ...           ...   \n",
       "8288              Bachelor         Employed      M  38638.0      Suburban   \n",
       "8289              Bachelor         Employed      F  80927.0         Urban   \n",
       "8290  High School or Below       Unemployed      M      0.0      Suburban   \n",
       "8291  High School or Below         Employed      M  81914.0         Urban   \n",
       "8292  High School or Below       Unemployed      M      0.0      Suburban   \n",
       "\n",
       "     Marital Status  Monthly Premium Auto  Months Since Last Claim  \\\n",
       "0           Married                  69.0                     32.0   \n",
       "1            Single                  94.0                     13.0   \n",
       "2           Married                 108.0                     18.0   \n",
       "3           Married                 106.0                     18.0   \n",
       "4            Single                  73.0                     12.0   \n",
       "...             ...                   ...                      ...   \n",
       "8288        Married                  74.0                      5.0   \n",
       "8289         Single                  62.0                     25.0   \n",
       "8290         Single                  65.0                     33.0   \n",
       "8291        Married                  70.0                      6.0   \n",
       "8292         Single                  92.0                      9.0   \n",
       "\n",
       "      Months Since Policy Inception  Number of Open Complaints  \\\n",
       "0                               5.0                        0.0   \n",
       "1                              42.0                        0.0   \n",
       "2                              38.0                        0.0   \n",
       "3                              65.0                        0.0   \n",
       "4                              44.0                        0.0   \n",
       "...                             ...                        ...   \n",
       "8288                           84.0                        0.0   \n",
       "8289                            8.0                        0.0   \n",
       "8290                            1.0                        0.0   \n",
       "8291                           33.0                        0.0   \n",
       "8292                           24.0                        0.0   \n",
       "\n",
       "      Number of Policies     Policy Type        Policy Renew Offer Type  \\\n",
       "0                    1.0  Corporate Auto  Corporate L3           Offer1   \n",
       "1                    8.0   Personal Auto   Personal L3           Offer3   \n",
       "2                    2.0   Personal Auto   Personal L3           Offer1   \n",
       "3                    7.0  Corporate Auto  Corporate L2           Offer1   \n",
       "4                    1.0   Personal Auto   Personal L1           Offer1   \n",
       "...                  ...             ...           ...              ...   \n",
       "8288                 2.0   Personal Auto   Personal L2           Offer1   \n",
       "8289                 1.0   Personal Auto   Personal L2           Offer2   \n",
       "8290                 3.0   Personal Auto   Personal L3           Offer1   \n",
       "8291                 6.0  Corporate Auto  Corporate L2           Offer4   \n",
       "8292                 3.0   Personal Auto   Personal L3           Offer1   \n",
       "\n",
       "     Sales Channel  Total Claim Amount  Vehicle Class Vehicle Size  \n",
       "0            Agent          384.811147   Two-Door Car      Medsize  \n",
       "1            Agent         1131.464935  Four-Door Car      Medsize  \n",
       "2            Agent          566.472247   Two-Door Car      Medsize  \n",
       "3      Call Center          529.881344            SUV      Medsize  \n",
       "4            Agent          138.130879  Four-Door Car      Medsize  \n",
       "...            ...                 ...            ...          ...  \n",
       "8288         Agent          355.200000  Four-Door Car      Medsize  \n",
       "8289        Branch          211.660971   Two-Door Car      Medsize  \n",
       "8290           Web          585.454243   Two-Door Car      Medsize  \n",
       "8291        Branch          198.754660  Four-Door Car      Medsize  \n",
       "8292   Call Center          662.400000  Four-Door Car      Medsize  \n",
       "\n",
       "[8293 rows x 22 columns]"
      ]
     },
     "execution_count": 8,
     "metadata": {},
     "output_type": "execute_result"
    }
   ],
   "source": [
    "data1"
   ]
  },
  {
   "cell_type": "code",
   "execution_count": 9,
   "metadata": {},
   "outputs": [
    {
     "data": {
      "text/plain": [
       "Index(['State', 'Customer Lifetime Value', 'Response', 'Coverage', 'Education',\n",
       "       'EmploymentStatus', 'Gender', 'Income', 'Location Code',\n",
       "       'Marital Status', 'Monthly Premium Auto', 'Months Since Last Claim',\n",
       "       'Months Since Policy Inception', 'Number of Open Complaints',\n",
       "       'Number of Policies', 'Policy Type', 'Policy', 'Renew Offer Type',\n",
       "       'Sales Channel', 'Total Claim Amount', 'Vehicle Class', 'Vehicle Size'],\n",
       "      dtype='object')"
      ]
     },
     "execution_count": 9,
     "metadata": {},
     "output_type": "execute_result"
    }
   ],
   "source": [
    "# All Columns in data\n",
    "columns = data1.columns\n",
    "columns"
   ]
  },
  {
   "cell_type": "code",
   "execution_count": 10,
   "metadata": {},
   "outputs": [
    {
     "data": {
      "text/plain": [
       "Index(['Customer Lifetime Value', 'Income', 'Monthly Premium Auto',\n",
       "       'Months Since Last Claim', 'Months Since Policy Inception',\n",
       "       'Number of Open Complaints', 'Number of Policies',\n",
       "       'Total Claim Amount'],\n",
       "      dtype='object')"
      ]
     },
     "execution_count": 10,
     "metadata": {},
     "output_type": "execute_result"
    }
   ],
   "source": [
    "# Columns having Numerical values\n",
    "numerical_columns = data1._get_numeric_data().columns\n",
    "numerical_columns"
   ]
  },
  {
   "cell_type": "code",
   "execution_count": 11,
   "metadata": {},
   "outputs": [
    {
     "data": {
      "text/plain": [
       "['Renew Offer Type',\n",
       " 'Vehicle Class',\n",
       " 'Policy',\n",
       " 'State',\n",
       " 'Policy Type',\n",
       " 'Coverage',\n",
       " 'Location Code',\n",
       " 'Gender',\n",
       " 'EmploymentStatus',\n",
       " 'Education',\n",
       " 'Vehicle Size',\n",
       " 'Response',\n",
       " 'Marital Status',\n",
       " 'Sales Channel']"
      ]
     },
     "execution_count": 11,
     "metadata": {},
     "output_type": "execute_result"
    }
   ],
   "source": [
    "# Columns having Categorical values\n",
    "categorical_columns = list(set(columns) - set(numerical_columns))\n",
    "categorical_columns"
   ]
  },
  {
   "cell_type": "code",
   "execution_count": 12,
   "metadata": {},
   "outputs": [
    {
     "name": "stdout",
     "output_type": "stream",
     "text": [
      "Renew Offer Type : 4\n",
      "['Offer1' 'Offer3' 'Offer2' 'Offer4']\n",
      "Vehicle Class : 6\n",
      "['Two-Door Car' 'Four-Door Car' 'SUV' 'Luxury SUV' 'Sports Car'\n",
      " 'Luxury Car']\n",
      "Policy : 9\n",
      "['Corporate L3' 'Personal L3' 'Corporate L2' 'Personal L1' 'Special L2'\n",
      " 'Corporate L1' 'Personal L2' 'Special L1' 'Special L3']\n",
      "State : 5\n",
      "['Washington' 'Arizona' 'Nevada' 'California' 'Oregon']\n",
      "Policy Type : 3\n",
      "['Corporate Auto' 'Personal Auto' 'Special Auto']\n",
      "Coverage : 3\n",
      "['Basic' 'Extended' 'Premium']\n",
      "Location Code : 3\n",
      "['Suburban' 'Rural' 'Urban']\n",
      "Gender : 2\n",
      "['F' 'M']\n",
      "EmploymentStatus : 5\n",
      "['Employed' 'Unemployed' 'Medical Leave' 'Disabled' 'Retired']\n",
      "Education : 5\n",
      "['Bachelor' 'College' 'Master' 'High School or Below' 'Doctor']\n",
      "Vehicle Size : 3\n",
      "['Medsize' 'Small' 'Large']\n",
      "Response : 2\n",
      "['No' 'Yes']\n",
      "Marital Status : 3\n",
      "['Married' 'Single' 'Divorced']\n",
      "Sales Channel : 4\n",
      "['Agent' 'Call Center' 'Web' 'Branch']\n"
     ]
    }
   ],
   "source": [
    "# All Unique Values in Categorical Columns\n",
    "for column in categorical_columns:\n",
    "    print(column ,':', data1[column].nunique())\n",
    "    print(data1[column].unique())"
   ]
  },
  {
   "cell_type": "markdown",
   "metadata": {},
   "source": [
    "## Outlier analysis"
   ]
  },
  {
   "cell_type": "markdown",
   "metadata": {},
   "source": [
    "### Removing Outliers using Box-plot"
   ]
  },
  {
   "cell_type": "code",
   "execution_count": 13,
   "metadata": {},
   "outputs": [
    {
     "data": {
      "text/plain": [
       "<matplotlib.axes._subplots.AxesSubplot at 0x204115edeb8>"
      ]
     },
     "execution_count": 13,
     "metadata": {},
     "output_type": "execute_result"
    },
    {
     "data": {
      "image/png": "[encoded data removed]",
      "text/plain": [
       "<Figure size 1800x360 with 1 Axes>"
      ]
     },
     "metadata": {
      "needs_background": "light"
     },
     "output_type": "display_data"
    }
   ],
   "source": [
    "data1[['Customer Lifetime Value','Income','Monthly Premium Auto','Months Since Last Claim'\n",
    "       ,'Months Since Policy Inception','Number of Open Complaints', 'Number of Policies'\n",
    "       ,'Total Claim Amount']].plot.box(figsize = (25, 5), legend = True, title = 'Outlier Distribution')"
   ]
  },
  {
   "cell_type": "code",
   "execution_count": 14,
   "metadata": {},
   "outputs": [
    {
     "data": {
      "text/plain": [
       "<matplotlib.axes._subplots.AxesSubplot at 0x20411d4e6a0>"
      ]
     },
     "execution_count": 14,
     "metadata": {},
     "output_type": "execute_result"
    },
    {
     "data": {
      "image/png": "[encoded data removed]",
      "text/plain": [
       "<Figure size 720x360 with 1 Axes>"
      ]
     },
     "metadata": {
      "needs_background": "light"
     },
     "output_type": "display_data"
    }
   ],
   "source": [
    "data1[['Customer Lifetime Value']].plot.box(figsize = (10, 5), legend = True, title = 'Outlier Distribution')"
   ]
  },
  {
   "cell_type": "code",
   "execution_count": 15,
   "metadata": {},
   "outputs": [
    {
     "data": {
      "text/plain": [
       "<matplotlib.axes._subplots.AxesSubplot at 0x20411b00cf8>"
      ]
     },
     "execution_count": 15,
     "metadata": {},
     "output_type": "execute_result"
    },
    {
     "data": {
      "image/png": "[encoded data removed]",
      "text/plain": [
       "<Figure size 720x360 with 1 Axes>"
      ]
     },
     "metadata": {
      "needs_background": "light"
     },
     "output_type": "display_data"
    }
   ],
   "source": [
    "data1[['Number of Policies']].plot.box(figsize = (10, 5), legend = True, title = 'Outlier Distribution')"
   ]
  },
  {
   "cell_type": "code",
   "execution_count": 16,
   "metadata": {},
   "outputs": [
    {
     "data": {
      "text/plain": [
       "<matplotlib.axes._subplots.AxesSubplot at 0x20411b64ba8>"
      ]
     },
     "execution_count": 16,
     "metadata": {},
     "output_type": "execute_result"
    },
    {
     "data": {
      "image/png": "[encoded data removed]",
      "text/plain": [
       "<Figure size 720x360 with 1 Axes>"
      ]
     },
     "metadata": {
      "needs_background": "light"
     },
     "output_type": "display_data"
    }
   ],
   "source": [
    "data1[['Total Claim Amount']].plot.box(figsize = (10, 5), legend = True, title = 'Outlier Distribution')"
   ]
  },
  {
   "cell_type": "code",
   "execution_count": 17,
   "metadata": {},
   "outputs": [],
   "source": [
    "def removeOutliers(df, column):\n",
    "    Q1 = df[column].quantile(0.25)\n",
    "    Q3 = df[column].quantile(0.75)\n",
    "    IQR = Q3 - Q1    #IQR is interquartile range. \n",
    "\n",
    "    filter = (df[column] >= (Q1 - 1.5 * IQR)) & (df[column] <= (Q3 + 1.5 * IQR))\n",
    "    return df.loc[filter] "
   ]
  },
  {
   "cell_type": "code",
   "execution_count": 18,
   "metadata": {},
   "outputs": [],
   "source": [
    "data2 = data1.copy()"
   ]
  },
  {
   "cell_type": "code",
   "execution_count": 19,
   "metadata": {},
   "outputs": [
    {
     "data": {
      "text/plain": [
       "(7560, 22)"
      ]
     },
     "execution_count": 19,
     "metadata": {},
     "output_type": "execute_result"
    }
   ],
   "source": [
    "data2 = removeOutliers(data2, 'Customer Lifetime Value')\n",
    "data2.shape"
   ]
  },
  {
   "cell_type": "code",
   "execution_count": 20,
   "metadata": {},
   "outputs": [
    {
     "data": {
      "text/plain": [
       "(7182, 22)"
      ]
     },
     "execution_count": 20,
     "metadata": {},
     "output_type": "execute_result"
    }
   ],
   "source": [
    "data2 = removeOutliers(data2, 'Number of Policies')\n",
    "data2.shape"
   ]
  },
  {
   "cell_type": "code",
   "execution_count": 21,
   "metadata": {},
   "outputs": [
    {
     "data": {
      "text/plain": [
       "(6871, 22)"
      ]
     },
     "execution_count": 21,
     "metadata": {},
     "output_type": "execute_result"
    }
   ],
   "source": [
    "data2 = removeOutliers(data2, 'Total Claim Amount')\n",
    "data2.shape"
   ]
  },
  {
   "cell_type": "markdown",
   "metadata": {},
   "source": [
    "Removing Outliers using box-plot removes 8293-6871 = 1422 rows."
   ]
  },
  {
   "cell_type": "markdown",
   "metadata": {},
   "source": [
    "### Removing outliers using z-score"
   ]
  },
  {
   "cell_type": "code",
   "execution_count": 22,
   "metadata": {},
   "outputs": [],
   "source": [
    "z_scores = stats.zscore(data1[numerical_columns])\n",
    "abs_z_scores = np.abs(z_scores)\n",
    "filtered_entries = (abs_z_scores < 3).all(axis=1)\n",
    "data3 = data1[filtered_entries]\n",
    "data3.reset_index(drop = True, inplace=True)"
   ]
  },
  {
   "cell_type": "code",
   "execution_count": 23,
   "metadata": {},
   "outputs": [
    {
     "data": {
      "text/plain": [
       "(7702, 22)"
      ]
     },
     "execution_count": 23,
     "metadata": {},
     "output_type": "execute_result"
    }
   ],
   "source": [
    "data3.shape"
   ]
  },
  {
   "cell_type": "markdown",
   "metadata": {},
   "source": [
    "Removing outliers using z-score removes 8293-7702 = 591 rows."
   ]
  },
  {
   "cell_type": "markdown",
   "metadata": {},
   "source": [
    "Since, removing outliers using z-score removes less rows when compared with removing outliers using box-plot, for our convinience we proceed with x-score removal."
   ]
  },
  {
   "cell_type": "markdown",
   "metadata": {},
   "source": [
    "## Feature Selection"
   ]
  },
  {
   "cell_type": "markdown",
   "metadata": {},
   "source": [
    "### Correlation Matrix"
   ]
  },
  {
   "cell_type": "markdown",
   "metadata": {},
   "source": [
    "'data2' :-  Outliers removed by using box-plot method.<br>\n",
    "'data3' :-  Outliers removed by using z-score."
   ]
  },
  {
   "cell_type": "code",
   "execution_count": 24,
   "metadata": {},
   "outputs": [],
   "source": [
    "data4 = data3.copy()"
   ]
  },
  {
   "cell_type": "code",
   "execution_count": 25,
   "metadata": {},
   "outputs": [],
   "source": [
    "# Calculating the correlation matrix\n",
    "correlation_matrix = data4[numerical_columns].corr()\n",
    "\n",
    "# Converting the correlation matrix to dataframe\n",
    "correlation_matrix = pd.DataFrame(correlation_matrix)"
   ]
  },
  {
   "cell_type": "code",
   "execution_count": 26,
   "metadata": {},
   "outputs": [
    {
     "data": {
      "text/plain": [
       "(8.5, -0.5)"
      ]
     },
     "execution_count": 26,
     "metadata": {},
     "output_type": "execute_result"
    },
    {
     "data": {
      "image/png": "[encoded data removed]",
      "text/plain": [
       "<Figure size 720x504 with 2 Axes>"
      ]
     },
     "metadata": {
      "needs_background": "light"
     },
     "output_type": "display_data"
    }
   ],
   "source": [
    "# Plotting HeatMap for Correlation Matrix\n",
    "plt.figure(figsize = (10, 7))\n",
    "ax = sns.heatmap(correlation_matrix, cmap='coolwarm', linewidths=0.5, linecolor='w', annot=True)\n",
    "plt.title('Correlation_matrix', size=28)\n",
    "bottom, top = ax.get_ylim()\n",
    "ax.set_ylim(bottom+0.5, top-0.5)"
   ]
  },
  {
   "cell_type": "markdown",
   "metadata": {},
   "source": [
    "There is no correlation between any two numerical variables."
   ]
  },
  {
   "cell_type": "markdown",
   "metadata": {},
   "source": [
    "### Multi-Colinearity"
   ]
  },
  {
   "cell_type": "code",
   "execution_count": 27,
   "metadata": {},
   "outputs": [],
   "source": [
    "# Function to Calculaye VIF(Variance Inflation Factor)\n",
    "\n",
    "vif = pd.DataFrame()\n",
    "def calculateVIF(df):\n",
    "    vif['columns'] = df.columns\n",
    "    vif['VIF'] = [variance_inflation_factor(df.values, i) for i in range(df.shape[1])]\n",
    "    print(vif)\n",
    "    vif.drop(vif.index, inplace=True) # drop all data in vif dataframe"
   ]
  },
  {
   "cell_type": "code",
   "execution_count": 28,
   "metadata": {},
   "outputs": [
    {
     "name": "stdout",
     "output_type": "stream",
     "text": [
      "                         columns        VIF\n",
      "0        Customer Lifetime Value   3.472219\n",
      "1                         Income   2.865513\n",
      "2           Monthly Premium Auto  14.621324\n",
      "3        Months Since Last Claim   2.842981\n",
      "4  Months Since Policy Inception   3.365862\n",
      "5      Number of Open Complaints   1.169885\n",
      "6             Number of Policies   2.375957\n",
      "7             Total Claim Amount   6.410366\n"
     ]
    }
   ],
   "source": [
    "calculateVIF(data4[numerical_columns])"
   ]
  },
  {
   "cell_type": "code",
   "execution_count": 29,
   "metadata": {},
   "outputs": [],
   "source": [
    "data4 = data4.drop('Monthly Premium Auto', axis=1)\n",
    "numerical_columns = numerical_columns.drop('Monthly Premium Auto')"
   ]
  },
  {
   "cell_type": "code",
   "execution_count": 30,
   "metadata": {},
   "outputs": [
    {
     "name": "stdout",
     "output_type": "stream",
     "text": [
      "                         columns       VIF\n",
      "0        Customer Lifetime Value  3.025092\n",
      "1                         Income  2.271456\n",
      "2        Months Since Last Claim  2.725374\n",
      "3  Months Since Policy Inception  3.140550\n",
      "4      Number of Open Complaints  1.164079\n",
      "5             Number of Policies  2.342724\n",
      "6             Total Claim Amount  3.280785\n"
     ]
    }
   ],
   "source": [
    "calculateVIF(data4[numerical_columns])"
   ]
  },
  {
   "cell_type": "code",
   "execution_count": 31,
   "metadata": {},
   "outputs": [
    {
     "data": {
      "text/plain": [
       "(7702, 21)"
      ]
     },
     "execution_count": 31,
     "metadata": {},
     "output_type": "execute_result"
    }
   ],
   "source": [
    "columns = data4.columns\n",
    "data4.shape"
   ]
  },
  {
   "cell_type": "markdown",
   "metadata": {},
   "source": [
    "## Feature Scaling"
   ]
  },
  {
   "cell_type": "code",
   "execution_count": 32,
   "metadata": {},
   "outputs": [],
   "source": [
    "# data4.hist(figsize=(18,18))\n",
    "# plt.gca().axes.get_yaxis().set_visible(False) #To hide <matplotlib.axis.XTick at 0x18100167630> etc etc"
   ]
  },
  {
   "cell_type": "code",
   "execution_count": 33,
   "metadata": {},
   "outputs": [],
   "source": [
    "# normalized_data = pd.DataFrame(preprocessing.normalize(data4[numerical_columns]), columns = numerical_columns)\n",
    "# # standardized_data = pd.DataFrame(preprocessing.scale(data4[numerical_columns]), columns = numerical_columns)\n",
    "# normalized_data"
   ]
  },
  {
   "cell_type": "code",
   "execution_count": 34,
   "metadata": {},
   "outputs": [],
   "source": [
    "# data5 = pd.concat([normalized_data, data4[categorical_columns]], axis=1)\n",
    "# data6 = pd.concat([standardized_data, data4[categorical_columns]], axis=1)"
   ]
  },
  {
   "cell_type": "markdown",
   "metadata": {},
   "source": [
    "###### Since Standardizing or Normalizing the data is not improving the performance of the model. We will not do Feature Scaling..."
   ]
  },
  {
   "cell_type": "code",
   "execution_count": 35,
   "metadata": {},
   "outputs": [],
   "source": [
    "data7 = data4.copy()"
   ]
  },
  {
   "cell_type": "code",
   "execution_count": 36,
   "metadata": {},
   "outputs": [
    {
     "data": {
      "text/html": [
       "<div>\n",
       "<style scoped>\n",
       "    .dataframe tbody tr th:only-of-type {\n",
       "        vertical-align: middle;\n",
       "    }\n",
       "\n",
       "    .dataframe tbody tr th {\n",
       "        vertical-align: top;\n",
       "    }\n",
       "\n",
       "    .dataframe thead th {\n",
       "        text-align: right;\n",
       "    }\n",
       "</style>\n",
       "<table border=\"1\" class=\"dataframe\">\n",
       "  <thead>\n",
       "    <tr style=\"text-align: right;\">\n",
       "      <th></th>\n",
       "      <th>Customer Lifetime Value</th>\n",
       "      <th>Income</th>\n",
       "      <th>Months Since Last Claim</th>\n",
       "      <th>Months Since Policy Inception</th>\n",
       "      <th>Number of Open Complaints</th>\n",
       "      <th>Number of Policies</th>\n",
       "      <th>Total Claim Amount</th>\n",
       "      <th>State_Arizona</th>\n",
       "      <th>State_California</th>\n",
       "      <th>State_Nevada</th>\n",
       "      <th>State_Oregon</th>\n",
       "      <th>State_Washington</th>\n",
       "      <th>...</th>\n",
       "      <th>Sales Channel_Branch</th>\n",
       "      <th>Sales Channel_Call Center</th>\n",
       "      <th>Sales Channel_Web</th>\n",
       "      <th>Vehicle Class_Four-Door Car</th>\n",
       "      <th>Vehicle Class_Luxury Car</th>\n",
       "      <th>Vehicle Class_Luxury SUV</th>\n",
       "      <th>Vehicle Class_SUV</th>\n",
       "      <th>Vehicle Class_Sports Car</th>\n",
       "      <th>Vehicle Class_Two-Door Car</th>\n",
       "      <th>Vehicle Size_Large</th>\n",
       "      <th>Vehicle Size_Medsize</th>\n",
       "      <th>Vehicle Size_Small</th>\n",
       "    </tr>\n",
       "  </thead>\n",
       "  <tbody>\n",
       "    <tr>\n",
       "      <td>0</td>\n",
       "      <td>2763.519279</td>\n",
       "      <td>56274.0</td>\n",
       "      <td>32.0</td>\n",
       "      <td>5.0</td>\n",
       "      <td>0.0</td>\n",
       "      <td>1.0</td>\n",
       "      <td>384.811147</td>\n",
       "      <td>0</td>\n",
       "      <td>0</td>\n",
       "      <td>0</td>\n",
       "      <td>0</td>\n",
       "      <td>1</td>\n",
       "      <td>...</td>\n",
       "      <td>0</td>\n",
       "      <td>0</td>\n",
       "      <td>0</td>\n",
       "      <td>0</td>\n",
       "      <td>0</td>\n",
       "      <td>0</td>\n",
       "      <td>0</td>\n",
       "      <td>0</td>\n",
       "      <td>1</td>\n",
       "      <td>0</td>\n",
       "      <td>1</td>\n",
       "      <td>0</td>\n",
       "    </tr>\n",
       "    <tr>\n",
       "      <td>1</td>\n",
       "      <td>6979.535903</td>\n",
       "      <td>0.0</td>\n",
       "      <td>13.0</td>\n",
       "      <td>42.0</td>\n",
       "      <td>0.0</td>\n",
       "      <td>8.0</td>\n",
       "      <td>1131.464935</td>\n",
       "      <td>1</td>\n",
       "      <td>0</td>\n",
       "      <td>0</td>\n",
       "      <td>0</td>\n",
       "      <td>0</td>\n",
       "      <td>...</td>\n",
       "      <td>0</td>\n",
       "      <td>0</td>\n",
       "      <td>0</td>\n",
       "      <td>1</td>\n",
       "      <td>0</td>\n",
       "      <td>0</td>\n",
       "      <td>0</td>\n",
       "      <td>0</td>\n",
       "      <td>0</td>\n",
       "      <td>0</td>\n",
       "      <td>1</td>\n",
       "      <td>0</td>\n",
       "    </tr>\n",
       "    <tr>\n",
       "      <td>2</td>\n",
       "      <td>12887.431650</td>\n",
       "      <td>48767.0</td>\n",
       "      <td>18.0</td>\n",
       "      <td>38.0</td>\n",
       "      <td>0.0</td>\n",
       "      <td>2.0</td>\n",
       "      <td>566.472247</td>\n",
       "      <td>0</td>\n",
       "      <td>0</td>\n",
       "      <td>1</td>\n",
       "      <td>0</td>\n",
       "      <td>0</td>\n",
       "      <td>...</td>\n",
       "      <td>0</td>\n",
       "      <td>0</td>\n",
       "      <td>0</td>\n",
       "      <td>0</td>\n",
       "      <td>0</td>\n",
       "      <td>0</td>\n",
       "      <td>0</td>\n",
       "      <td>0</td>\n",
       "      <td>1</td>\n",
       "      <td>0</td>\n",
       "      <td>1</td>\n",
       "      <td>0</td>\n",
       "    </tr>\n",
       "    <tr>\n",
       "      <td>3</td>\n",
       "      <td>7645.861827</td>\n",
       "      <td>0.0</td>\n",
       "      <td>18.0</td>\n",
       "      <td>65.0</td>\n",
       "      <td>0.0</td>\n",
       "      <td>7.0</td>\n",
       "      <td>529.881344</td>\n",
       "      <td>0</td>\n",
       "      <td>1</td>\n",
       "      <td>0</td>\n",
       "      <td>0</td>\n",
       "      <td>0</td>\n",
       "      <td>...</td>\n",
       "      <td>0</td>\n",
       "      <td>1</td>\n",
       "      <td>0</td>\n",
       "      <td>0</td>\n",
       "      <td>0</td>\n",
       "      <td>0</td>\n",
       "      <td>1</td>\n",
       "      <td>0</td>\n",
       "      <td>0</td>\n",
       "      <td>0</td>\n",
       "      <td>1</td>\n",
       "      <td>0</td>\n",
       "    </tr>\n",
       "    <tr>\n",
       "      <td>4</td>\n",
       "      <td>2813.692575</td>\n",
       "      <td>43836.0</td>\n",
       "      <td>12.0</td>\n",
       "      <td>44.0</td>\n",
       "      <td>0.0</td>\n",
       "      <td>1.0</td>\n",
       "      <td>138.130879</td>\n",
       "      <td>0</td>\n",
       "      <td>0</td>\n",
       "      <td>0</td>\n",
       "      <td>0</td>\n",
       "      <td>1</td>\n",
       "      <td>...</td>\n",
       "      <td>0</td>\n",
       "      <td>0</td>\n",
       "      <td>0</td>\n",
       "      <td>1</td>\n",
       "      <td>0</td>\n",
       "      <td>0</td>\n",
       "      <td>0</td>\n",
       "      <td>0</td>\n",
       "      <td>0</td>\n",
       "      <td>0</td>\n",
       "      <td>1</td>\n",
       "      <td>0</td>\n",
       "    </tr>\n",
       "    <tr>\n",
       "      <td>...</td>\n",
       "      <td>...</td>\n",
       "      <td>...</td>\n",
       "      <td>...</td>\n",
       "      <td>...</td>\n",
       "      <td>...</td>\n",
       "      <td>...</td>\n",
       "      <td>...</td>\n",
       "      <td>...</td>\n",
       "      <td>...</td>\n",
       "      <td>...</td>\n",
       "      <td>...</td>\n",
       "      <td>...</td>\n",
       "      <td>...</td>\n",
       "      <td>...</td>\n",
       "      <td>...</td>\n",
       "      <td>...</td>\n",
       "      <td>...</td>\n",
       "      <td>...</td>\n",
       "      <td>...</td>\n",
       "      <td>...</td>\n",
       "      <td>...</td>\n",
       "      <td>...</td>\n",
       "      <td>...</td>\n",
       "      <td>...</td>\n",
       "      <td>...</td>\n",
       "    </tr>\n",
       "    <tr>\n",
       "      <td>7697</td>\n",
       "      <td>8804.584902</td>\n",
       "      <td>38638.0</td>\n",
       "      <td>5.0</td>\n",
       "      <td>84.0</td>\n",
       "      <td>0.0</td>\n",
       "      <td>2.0</td>\n",
       "      <td>355.200000</td>\n",
       "      <td>0</td>\n",
       "      <td>0</td>\n",
       "      <td>0</td>\n",
       "      <td>1</td>\n",
       "      <td>0</td>\n",
       "      <td>...</td>\n",
       "      <td>0</td>\n",
       "      <td>0</td>\n",
       "      <td>0</td>\n",
       "      <td>1</td>\n",
       "      <td>0</td>\n",
       "      <td>0</td>\n",
       "      <td>0</td>\n",
       "      <td>0</td>\n",
       "      <td>0</td>\n",
       "      <td>0</td>\n",
       "      <td>1</td>\n",
       "      <td>0</td>\n",
       "    </tr>\n",
       "    <tr>\n",
       "      <td>7698</td>\n",
       "      <td>2438.689804</td>\n",
       "      <td>80927.0</td>\n",
       "      <td>25.0</td>\n",
       "      <td>8.0</td>\n",
       "      <td>0.0</td>\n",
       "      <td>1.0</td>\n",
       "      <td>211.660971</td>\n",
       "      <td>0</td>\n",
       "      <td>1</td>\n",
       "      <td>0</td>\n",
       "      <td>0</td>\n",
       "      <td>0</td>\n",
       "      <td>...</td>\n",
       "      <td>1</td>\n",
       "      <td>0</td>\n",
       "      <td>0</td>\n",
       "      <td>0</td>\n",
       "      <td>0</td>\n",
       "      <td>0</td>\n",
       "      <td>0</td>\n",
       "      <td>0</td>\n",
       "      <td>1</td>\n",
       "      <td>0</td>\n",
       "      <td>1</td>\n",
       "      <td>0</td>\n",
       "    </tr>\n",
       "    <tr>\n",
       "      <td>7699</td>\n",
       "      <td>4736.347990</td>\n",
       "      <td>0.0</td>\n",
       "      <td>33.0</td>\n",
       "      <td>1.0</td>\n",
       "      <td>0.0</td>\n",
       "      <td>3.0</td>\n",
       "      <td>585.454243</td>\n",
       "      <td>0</td>\n",
       "      <td>1</td>\n",
       "      <td>0</td>\n",
       "      <td>0</td>\n",
       "      <td>0</td>\n",
       "      <td>...</td>\n",
       "      <td>0</td>\n",
       "      <td>0</td>\n",
       "      <td>1</td>\n",
       "      <td>0</td>\n",
       "      <td>0</td>\n",
       "      <td>0</td>\n",
       "      <td>0</td>\n",
       "      <td>0</td>\n",
       "      <td>1</td>\n",
       "      <td>0</td>\n",
       "      <td>1</td>\n",
       "      <td>0</td>\n",
       "    </tr>\n",
       "    <tr>\n",
       "      <td>7700</td>\n",
       "      <td>5608.155723</td>\n",
       "      <td>81914.0</td>\n",
       "      <td>6.0</td>\n",
       "      <td>33.0</td>\n",
       "      <td>0.0</td>\n",
       "      <td>6.0</td>\n",
       "      <td>198.754660</td>\n",
       "      <td>1</td>\n",
       "      <td>0</td>\n",
       "      <td>0</td>\n",
       "      <td>0</td>\n",
       "      <td>0</td>\n",
       "      <td>...</td>\n",
       "      <td>1</td>\n",
       "      <td>0</td>\n",
       "      <td>0</td>\n",
       "      <td>1</td>\n",
       "      <td>0</td>\n",
       "      <td>0</td>\n",
       "      <td>0</td>\n",
       "      <td>0</td>\n",
       "      <td>0</td>\n",
       "      <td>0</td>\n",
       "      <td>1</td>\n",
       "      <td>0</td>\n",
       "    </tr>\n",
       "    <tr>\n",
       "      <td>7701</td>\n",
       "      <td>6465.223746</td>\n",
       "      <td>0.0</td>\n",
       "      <td>9.0</td>\n",
       "      <td>24.0</td>\n",
       "      <td>0.0</td>\n",
       "      <td>3.0</td>\n",
       "      <td>662.400000</td>\n",
       "      <td>0</td>\n",
       "      <td>0</td>\n",
       "      <td>0</td>\n",
       "      <td>1</td>\n",
       "      <td>0</td>\n",
       "      <td>...</td>\n",
       "      <td>0</td>\n",
       "      <td>1</td>\n",
       "      <td>0</td>\n",
       "      <td>1</td>\n",
       "      <td>0</td>\n",
       "      <td>0</td>\n",
       "      <td>0</td>\n",
       "      <td>0</td>\n",
       "      <td>0</td>\n",
       "      <td>0</td>\n",
       "      <td>1</td>\n",
       "      <td>0</td>\n",
       "    </tr>\n",
       "  </tbody>\n",
       "</table>\n",
       "<p>7702 rows × 64 columns</p>\n",
       "</div>"
      ],
      "text/plain": [
       "      Customer Lifetime Value   Income  Months Since Last Claim  \\\n",
       "0                 2763.519279  56274.0                     32.0   \n",
       "1                 6979.535903      0.0                     13.0   \n",
       "2                12887.431650  48767.0                     18.0   \n",
       "3                 7645.861827      0.0                     18.0   \n",
       "4                 2813.692575  43836.0                     12.0   \n",
       "...                       ...      ...                      ...   \n",
       "7697              8804.584902  38638.0                      5.0   \n",
       "7698              2438.689804  80927.0                     25.0   \n",
       "7699              4736.347990      0.0                     33.0   \n",
       "7700              5608.155723  81914.0                      6.0   \n",
       "7701              6465.223746      0.0                      9.0   \n",
       "\n",
       "      Months Since Policy Inception  Number of Open Complaints  \\\n",
       "0                               5.0                        0.0   \n",
       "1                              42.0                        0.0   \n",
       "2                              38.0                        0.0   \n",
       "3                              65.0                        0.0   \n",
       "4                              44.0                        0.0   \n",
       "...                             ...                        ...   \n",
       "7697                           84.0                        0.0   \n",
       "7698                            8.0                        0.0   \n",
       "7699                            1.0                        0.0   \n",
       "7700                           33.0                        0.0   \n",
       "7701                           24.0                        0.0   \n",
       "\n",
       "      Number of Policies  Total Claim Amount  State_Arizona  State_California  \\\n",
       "0                    1.0          384.811147              0                 0   \n",
       "1                    8.0         1131.464935              1                 0   \n",
       "2                    2.0          566.472247              0                 0   \n",
       "3                    7.0          529.881344              0                 1   \n",
       "4                    1.0          138.130879              0                 0   \n",
       "...                  ...                 ...            ...               ...   \n",
       "7697                 2.0          355.200000              0                 0   \n",
       "7698                 1.0          211.660971              0                 1   \n",
       "7699                 3.0          585.454243              0                 1   \n",
       "7700                 6.0          198.754660              1                 0   \n",
       "7701                 3.0          662.400000              0                 0   \n",
       "\n",
       "      State_Nevada  State_Oregon  State_Washington  ...  Sales Channel_Branch  \\\n",
       "0                0             0                 1  ...                     0   \n",
       "1                0             0                 0  ...                     0   \n",
       "2                1             0                 0  ...                     0   \n",
       "3                0             0                 0  ...                     0   \n",
       "4                0             0                 1  ...                     0   \n",
       "...            ...           ...               ...  ...                   ...   \n",
       "7697             0             1                 0  ...                     0   \n",
       "7698             0             0                 0  ...                     1   \n",
       "7699             0             0                 0  ...                     0   \n",
       "7700             0             0                 0  ...                     1   \n",
       "7701             0             1                 0  ...                     0   \n",
       "\n",
       "      Sales Channel_Call Center  Sales Channel_Web  \\\n",
       "0                             0                  0   \n",
       "1                             0                  0   \n",
       "2                             0                  0   \n",
       "3                             1                  0   \n",
       "4                             0                  0   \n",
       "...                         ...                ...   \n",
       "7697                          0                  0   \n",
       "7698                          0                  0   \n",
       "7699                          0                  1   \n",
       "7700                          0                  0   \n",
       "7701                          1                  0   \n",
       "\n",
       "      Vehicle Class_Four-Door Car  Vehicle Class_Luxury Car  \\\n",
       "0                               0                         0   \n",
       "1                               1                         0   \n",
       "2                               0                         0   \n",
       "3                               0                         0   \n",
       "4                               1                         0   \n",
       "...                           ...                       ...   \n",
       "7697                            1                         0   \n",
       "7698                            0                         0   \n",
       "7699                            0                         0   \n",
       "7700                            1                         0   \n",
       "7701                            1                         0   \n",
       "\n",
       "      Vehicle Class_Luxury SUV  Vehicle Class_SUV  Vehicle Class_Sports Car  \\\n",
       "0                            0                  0                         0   \n",
       "1                            0                  0                         0   \n",
       "2                            0                  0                         0   \n",
       "3                            0                  1                         0   \n",
       "4                            0                  0                         0   \n",
       "...                        ...                ...                       ...   \n",
       "7697                         0                  0                         0   \n",
       "7698                         0                  0                         0   \n",
       "7699                         0                  0                         0   \n",
       "7700                         0                  0                         0   \n",
       "7701                         0                  0                         0   \n",
       "\n",
       "      Vehicle Class_Two-Door Car  Vehicle Size_Large  Vehicle Size_Medsize  \\\n",
       "0                              1                   0                     1   \n",
       "1                              0                   0                     1   \n",
       "2                              1                   0                     1   \n",
       "3                              0                   0                     1   \n",
       "4                              0                   0                     1   \n",
       "...                          ...                 ...                   ...   \n",
       "7697                           0                   0                     1   \n",
       "7698                           1                   0                     1   \n",
       "7699                           1                   0                     1   \n",
       "7700                           0                   0                     1   \n",
       "7701                           0                   0                     1   \n",
       "\n",
       "      Vehicle Size_Small  \n",
       "0                      0  \n",
       "1                      0  \n",
       "2                      0  \n",
       "3                      0  \n",
       "4                      0  \n",
       "...                  ...  \n",
       "7697                   0  \n",
       "7698                   0  \n",
       "7699                   0  \n",
       "7700                   0  \n",
       "7701                   0  \n",
       "\n",
       "[7702 rows x 64 columns]"
      ]
     },
     "execution_count": 36,
     "metadata": {},
     "output_type": "execute_result"
    }
   ],
   "source": [
    "data8 = pd.get_dummies(data7)\n",
    "data8"
   ]
  },
  {
   "cell_type": "code",
   "execution_count": 37,
   "metadata": {
    "scrolled": true
   },
   "outputs": [
    {
     "data": {
      "text/html": [
       "<div>\n",
       "<style scoped>\n",
       "    .dataframe tbody tr th:only-of-type {\n",
       "        vertical-align: middle;\n",
       "    }\n",
       "\n",
       "    .dataframe tbody tr th {\n",
       "        vertical-align: top;\n",
       "    }\n",
       "\n",
       "    .dataframe thead th {\n",
       "        text-align: right;\n",
       "    }\n",
       "</style>\n",
       "<table border=\"1\" class=\"dataframe\">\n",
       "  <thead>\n",
       "    <tr style=\"text-align: right;\">\n",
       "      <th></th>\n",
       "      <th>noOfClusters</th>\n",
       "      <th>cluster_errors</th>\n",
       "      <th>K</th>\n",
       "      <th>DB-Index</th>\n",
       "      <th>Silhouette</th>\n",
       "      <th>Calinski-Harabasz</th>\n",
       "    </tr>\n",
       "  </thead>\n",
       "  <tbody>\n",
       "    <tr>\n",
       "      <td>0</td>\n",
       "      <td>2</td>\n",
       "      <td>1.995651e+12</td>\n",
       "      <td>2</td>\n",
       "      <td>0.550128</td>\n",
       "      <td>0.604941</td>\n",
       "      <td>20596.047860</td>\n",
       "    </tr>\n",
       "    <tr>\n",
       "      <td>1</td>\n",
       "      <td>3</td>\n",
       "      <td>9.677301e+11</td>\n",
       "      <td>3</td>\n",
       "      <td>0.533113</td>\n",
       "      <td>0.578078</td>\n",
       "      <td>25322.739398</td>\n",
       "    </tr>\n",
       "    <tr>\n",
       "      <td>2</td>\n",
       "      <td>4</td>\n",
       "      <td>5.528648e+11</td>\n",
       "      <td>4</td>\n",
       "      <td>0.569544</td>\n",
       "      <td>0.567270</td>\n",
       "      <td>31471.480352</td>\n",
       "    </tr>\n",
       "    <tr>\n",
       "      <td>3</td>\n",
       "      <td>5</td>\n",
       "      <td>4.047105e+11</td>\n",
       "      <td>5</td>\n",
       "      <td>0.622510</td>\n",
       "      <td>0.539699</td>\n",
       "      <td>32944.526344</td>\n",
       "    </tr>\n",
       "    <tr>\n",
       "      <td>4</td>\n",
       "      <td>6</td>\n",
       "      <td>3.258271e+11</td>\n",
       "      <td>6</td>\n",
       "      <td>0.677921</td>\n",
       "      <td>0.521276</td>\n",
       "      <td>33104.765835</td>\n",
       "    </tr>\n",
       "    <tr>\n",
       "      <td>5</td>\n",
       "      <td>7</td>\n",
       "      <td>2.893240e+11</td>\n",
       "      <td>7</td>\n",
       "      <td>0.785521</td>\n",
       "      <td>0.479493</td>\n",
       "      <td>31225.688640</td>\n",
       "    </tr>\n",
       "    <tr>\n",
       "      <td>6</td>\n",
       "      <td>8</td>\n",
       "      <td>2.552876e+11</td>\n",
       "      <td>8</td>\n",
       "      <td>0.751537</td>\n",
       "      <td>0.473208</td>\n",
       "      <td>30475.917850</td>\n",
       "    </tr>\n",
       "    <tr>\n",
       "      <td>7</td>\n",
       "      <td>9</td>\n",
       "      <td>2.281150e+11</td>\n",
       "      <td>9</td>\n",
       "      <td>0.805499</td>\n",
       "      <td>0.456584</td>\n",
       "      <td>29953.610727</td>\n",
       "    </tr>\n",
       "    <tr>\n",
       "      <td>8</td>\n",
       "      <td>10</td>\n",
       "      <td>1.984717e+11</td>\n",
       "      <td>10</td>\n",
       "      <td>0.746743</td>\n",
       "      <td>0.471916</td>\n",
       "      <td>30725.767847</td>\n",
       "    </tr>\n",
       "    <tr>\n",
       "      <td>9</td>\n",
       "      <td>11</td>\n",
       "      <td>1.770552e+11</td>\n",
       "      <td>11</td>\n",
       "      <td>0.722522</td>\n",
       "      <td>0.480593</td>\n",
       "      <td>31087.105245</td>\n",
       "    </tr>\n",
       "    <tr>\n",
       "      <td>10</td>\n",
       "      <td>12</td>\n",
       "      <td>1.607314e+11</td>\n",
       "      <td>12</td>\n",
       "      <td>0.740552</td>\n",
       "      <td>0.488027</td>\n",
       "      <td>31198.129007</td>\n",
       "    </tr>\n",
       "    <tr>\n",
       "      <td>11</td>\n",
       "      <td>13</td>\n",
       "      <td>1.452465e+11</td>\n",
       "      <td>13</td>\n",
       "      <td>0.730004</td>\n",
       "      <td>0.476253</td>\n",
       "      <td>31711.392483</td>\n",
       "    </tr>\n",
       "    <tr>\n",
       "      <td>12</td>\n",
       "      <td>14</td>\n",
       "      <td>1.337706e+11</td>\n",
       "      <td>14</td>\n",
       "      <td>0.737602</td>\n",
       "      <td>0.467406</td>\n",
       "      <td>31829.819096</td>\n",
       "    </tr>\n",
       "    <tr>\n",
       "      <td>13</td>\n",
       "      <td>15</td>\n",
       "      <td>1.242599e+11</td>\n",
       "      <td>15</td>\n",
       "      <td>0.745316</td>\n",
       "      <td>0.472041</td>\n",
       "      <td>31856.329607</td>\n",
       "    </tr>\n",
       "    <tr>\n",
       "      <td>14</td>\n",
       "      <td>16</td>\n",
       "      <td>1.163976e+11</td>\n",
       "      <td>16</td>\n",
       "      <td>0.754351</td>\n",
       "      <td>0.461091</td>\n",
       "      <td>31771.420879</td>\n",
       "    </tr>\n",
       "    <tr>\n",
       "      <td>15</td>\n",
       "      <td>17</td>\n",
       "      <td>1.089900e+11</td>\n",
       "      <td>17</td>\n",
       "      <td>0.774176</td>\n",
       "      <td>0.453503</td>\n",
       "      <td>31838.653651</td>\n",
       "    </tr>\n",
       "    <tr>\n",
       "      <td>16</td>\n",
       "      <td>18</td>\n",
       "      <td>1.017963e+11</td>\n",
       "      <td>18</td>\n",
       "      <td>0.766917</td>\n",
       "      <td>0.421652</td>\n",
       "      <td>32111.161439</td>\n",
       "    </tr>\n",
       "    <tr>\n",
       "      <td>17</td>\n",
       "      <td>19</td>\n",
       "      <td>9.506917e+10</td>\n",
       "      <td>19</td>\n",
       "      <td>0.758507</td>\n",
       "      <td>0.425654</td>\n",
       "      <td>32499.282421</td>\n",
       "    </tr>\n",
       "    <tr>\n",
       "      <td>18</td>\n",
       "      <td>20</td>\n",
       "      <td>8.943229e+10</td>\n",
       "      <td>20</td>\n",
       "      <td>0.741462</td>\n",
       "      <td>0.427397</td>\n",
       "      <td>32750.478690</td>\n",
       "    </tr>\n",
       "    <tr>\n",
       "      <td>19</td>\n",
       "      <td>21</td>\n",
       "      <td>8.559529e+10</td>\n",
       "      <td>21</td>\n",
       "      <td>0.758353</td>\n",
       "      <td>0.430675</td>\n",
       "      <td>32520.675525</td>\n",
       "    </tr>\n",
       "    <tr>\n",
       "      <td>20</td>\n",
       "      <td>22</td>\n",
       "      <td>8.218620e+10</td>\n",
       "      <td>22</td>\n",
       "      <td>0.769480</td>\n",
       "      <td>0.419296</td>\n",
       "      <td>32268.360265</td>\n",
       "    </tr>\n",
       "    <tr>\n",
       "      <td>21</td>\n",
       "      <td>23</td>\n",
       "      <td>7.865015e+10</td>\n",
       "      <td>23</td>\n",
       "      <td>0.774595</td>\n",
       "      <td>0.421519</td>\n",
       "      <td>32197.292691</td>\n",
       "    </tr>\n",
       "    <tr>\n",
       "      <td>22</td>\n",
       "      <td>24</td>\n",
       "      <td>7.552222e+10</td>\n",
       "      <td>24</td>\n",
       "      <td>0.780087</td>\n",
       "      <td>0.423617</td>\n",
       "      <td>32083.041181</td>\n",
       "    </tr>\n",
       "  </tbody>\n",
       "</table>\n",
       "</div>"
      ],
      "text/plain": [
       "    noOfClusters  cluster_errors   K  DB-Index  Silhouette  Calinski-Harabasz\n",
       "0              2    1.995651e+12   2  0.550128    0.604941       20596.047860\n",
       "1              3    9.677301e+11   3  0.533113    0.578078       25322.739398\n",
       "2              4    5.528648e+11   4  0.569544    0.567270       31471.480352\n",
       "3              5    4.047105e+11   5  0.622510    0.539699       32944.526344\n",
       "4              6    3.258271e+11   6  0.677921    0.521276       33104.765835\n",
       "5              7    2.893240e+11   7  0.785521    0.479493       31225.688640\n",
       "6              8    2.552876e+11   8  0.751537    0.473208       30475.917850\n",
       "7              9    2.281150e+11   9  0.805499    0.456584       29953.610727\n",
       "8             10    1.984717e+11  10  0.746743    0.471916       30725.767847\n",
       "9             11    1.770552e+11  11  0.722522    0.480593       31087.105245\n",
       "10            12    1.607314e+11  12  0.740552    0.488027       31198.129007\n",
       "11            13    1.452465e+11  13  0.730004    0.476253       31711.392483\n",
       "12            14    1.337706e+11  14  0.737602    0.467406       31829.819096\n",
       "13            15    1.242599e+11  15  0.745316    0.472041       31856.329607\n",
       "14            16    1.163976e+11  16  0.754351    0.461091       31771.420879\n",
       "15            17    1.089900e+11  17  0.774176    0.453503       31838.653651\n",
       "16            18    1.017963e+11  18  0.766917    0.421652       32111.161439\n",
       "17            19    9.506917e+10  19  0.758507    0.425654       32499.282421\n",
       "18            20    8.943229e+10  20  0.741462    0.427397       32750.478690\n",
       "19            21    8.559529e+10  21  0.758353    0.430675       32520.675525\n",
       "20            22    8.218620e+10  22  0.769480    0.419296       32268.360265\n",
       "21            23    7.865015e+10  23  0.774595    0.421519       32197.292691\n",
       "22            24    7.552222e+10  24  0.780087    0.423617       32083.041181"
      ]
     },
     "execution_count": 37,
     "metadata": {},
     "output_type": "execute_result"
    }
   ],
   "source": [
    "# Estimate Optimum number of clusters\n",
    "cluster_range = range(2, 25)\n",
    "cluster_errors = []\n",
    "K = []\n",
    "DB_Index = []\n",
    "Silhouette = []\n",
    "Calinski_Harabasz = []\n",
    "Quality = pd.DataFrame(columns = ['K', 'DB-Index', 'Silhouette', 'Calinski-Harabasz'])\n",
    "\n",
    "for noOfClusters in cluster_range:\n",
    "    clusters = KMeans(n_clusters=noOfClusters).fit(data8)\n",
    "    label = clusters.labels_\n",
    "    cluster_errors.append(clusters.inertia_)\n",
    "    K.append(noOfClusters)\n",
    "    DB_Index.append(davies_bouldin_score(data8, label))\n",
    "    Silhouette.append(silhouette_score(data8, label))\n",
    "    Calinski_Harabasz.append(calinski_harabasz_score(data8, label))\n",
    "    \n",
    "\n",
    "    \n",
    "cluster_DF = pd.DataFrame({\"noOfClusters\": cluster_range, \"cluster_errors\": cluster_errors})\n",
    "cluster_DF['K'] = K\n",
    "cluster_DF['DB-Index'] = DB_Index\n",
    "cluster_DF['Silhouette'] = Silhouette\n",
    "cluster_DF['Calinski-Harabasz'] = Calinski_Harabasz\n",
    "cluster_DF"
   ]
  },
  {
   "cell_type": "code",
   "execution_count": 38,
   "metadata": {},
   "outputs": [
    {
     "data": {
      "image/png": "[encoded data removed]",
      "text/plain": [
       "<Figure size 1296x432 with 1 Axes>"
      ]
     },
     "metadata": {
      "needs_background": "light"
     },
     "output_type": "display_data"
    }
   ],
   "source": [
    "plt.figure(figsize=(18, 6))\n",
    "plt.plot(cluster_DF.noOfClusters, cluster_DF.cluster_errors, marker = 'o')\n",
    "plt.xlabel('K')\n",
    "plt.ylabel('ERROR')\n",
    "plt.title('Elbow Graph')\n",
    "plt.xticks(np.arange(2, 26, 1))\n",
    "plt.show()"
   ]
  },
  {
   "cell_type": "code",
   "execution_count": 39,
   "metadata": {},
   "outputs": [
    {
     "data": {
      "image/png": "[encoded data removed]",
      "text/plain": [
       "<Figure size 1296x432 with 1 Axes>"
      ]
     },
     "metadata": {
      "needs_background": "light"
     },
     "output_type": "display_data"
    }
   ],
   "source": [
    "plt.figure(figsize=(18, 6))\n",
    "plt.plot(cluster_DF.noOfClusters, cluster_DF['DB-Index'], marker = 'o')\n",
    "plt.xlabel('K')\n",
    "plt.ylabel('Value')\n",
    "plt.title('DB-Index')\n",
    "plt.xticks(np.arange(2, 26, 1))\n",
    "plt.show()"
   ]
  },
  {
   "cell_type": "code",
   "execution_count": 40,
   "metadata": {},
   "outputs": [
    {
     "data": {
      "image/png": "[encoded data removed]",
      "text/plain": [
       "<Figure size 1296x432 with 1 Axes>"
      ]
     },
     "metadata": {
      "needs_background": "light"
     },
     "output_type": "display_data"
    }
   ],
   "source": [
    "plt.figure(figsize=(18, 6))\n",
    "plt.plot(cluster_DF.noOfClusters, cluster_DF.Silhouette, marker = 'o')\n",
    "plt.xlabel('K')\n",
    "plt.ylabel('ERROR')\n",
    "plt.title('Silhouette')\n",
    "plt.xticks(np.arange(2, 26, 1))\n",
    "plt.show()"
   ]
  },
  {
   "cell_type": "code",
   "execution_count": 41,
   "metadata": {},
   "outputs": [],
   "source": [
    "# Number of Clusters\n",
    "n = 3"
   ]
  },
  {
   "cell_type": "code",
   "execution_count": 42,
   "metadata": {},
   "outputs": [],
   "source": [
    "# Classification using K_Means \n",
    "clf = KMeans(n_clusters=n).fit(data8)"
   ]
  },
  {
   "cell_type": "code",
   "execution_count": 43,
   "metadata": {},
   "outputs": [],
   "source": [
    "centroids = clf.cluster_centers_\n",
    "labels = clf.labels_"
   ]
  },
  {
   "cell_type": "markdown",
   "metadata": {},
   "source": [
    "## Davies Boulding Index\n",
    "\n",
    "If the ground truth labels are not known, the Davies-Bouldin index (sklearn.metrics.davies_bouldin_score) can be used to evaluate the model, where a lower Davies-Bouldin index relates to a model with better separation between the clusters.\n",
    "\n",
    "This index signifies the average ‘similarity’ between clusters, where the similarity is a measure that compares the distance between clusters with the size of the clusters themselves.\n",
    "\n",
    "Zero is the lowest possible score. Values closer to zero indicate a better partition.\n",
    "\n",
    "#### Advantages\n",
    "1. The computation of Davies-Bouldin is simpler than that of Silhouette scores.\n",
    "2. The index is computed only quantities and features inherent to the dataset.\n",
    "\n",
    "#### Drawbacks\n",
    "1. The Davies-Boulding index is generally higher for convex clusters than other concepts of clusters, such as density based clusters like those obtained from DBSCAN.\n",
    "2. The usage of centroid distance limits the distance metric to Euclidean space."
   ]
  },
  {
   "cell_type": "code",
   "execution_count": 44,
   "metadata": {},
   "outputs": [
    {
     "data": {
      "text/plain": [
       "0.5331131342313079"
      ]
     },
     "execution_count": 44,
     "metadata": {},
     "output_type": "execute_result"
    }
   ],
   "source": [
    "# Using in-built method to calculate DB-Index\n",
    "davies_bouldin_score(data8, labels)"
   ]
  },
  {
   "cell_type": "markdown",
   "metadata": {},
   "source": [
    "## Silhouette Coefficient\n",
    "\n",
    "If the ground truth labels are not known, evaluation must be performed using the model itself. The Silhouette Coefficient (sklearn.metrics.silhouette_score) is an example of such an evaluation, where a higher Silhouette Coefficient score relates to a model with better defined clusters. \n",
    "\n",
    "The Silhouette Coefficient is defined for each sample and is composed of two scores:<br>\n",
    "a: The mean distance between a sample and all other points in the same class.<br>\n",
    "b: The mean distance between a sample and all other points in the next nearest cluster.\n",
    "\n",
    "The Silhouette Coefficient s for a single sample is then given as:\n",
    "\n",
    "$  s = \\frac{(b-a)}{max(a, b)}  $\n",
    "\n",
    "#### Advantages\n",
    "1. The score is bounded between -1 for incorrect clustering and +1 for highly dense clustering. Scores around zero indicate overlapping clusters.\n",
    "2. The score is higher when clusters are dense and well separated, which relates to a standard concept of a cluster.\n",
    "\n",
    "#### Drawbacks\n",
    "1. The Silhouette Coefficient is generally higher for convex clusters than other concepts of clusters, such as density based clusters like those obtained through DBSCAN."
   ]
  },
  {
   "cell_type": "code",
   "execution_count": 45,
   "metadata": {},
   "outputs": [
    {
     "data": {
      "text/plain": [
       "0.5780781063805595"
      ]
     },
     "execution_count": 45,
     "metadata": {},
     "output_type": "execute_result"
    }
   ],
   "source": [
    "# Using in-built method to calculate Silhouette-Score\n",
    "silhouette_score(data8, labels)"
   ]
  },
  {
   "cell_type": "markdown",
   "metadata": {},
   "source": [
    "## Calinski-Harabasz Score\n",
    "\n",
    "If the ground truth labels are not known, the Calinski-Harabasz index (sklearn.metrics.calinski_harabasz_score) - also known as the Variance Ratio Criterion - can be used to evaluate the model, where a higher Calinski-Harabasz score relates to a model with better defined clusters.\n",
    "\n",
    "The index is the ratio of the sum of between-clusters dispersion and of inter-cluster dispersion for all clusters (where dispersion is defined as the sum of distances squared)\n",
    "\n",
    "#### Advantages\n",
    "1. The score is higher when clusters are dense and well separated, which relates to a standard concept of a cluster.\n",
    "2. The score is fast to compute.\n",
    "\n",
    "#### Drawbacks\n",
    "1. The Calinski-Harabasz index is generally higher for convex clusters than other concepts of clusters, such as density based clusters like those obtained through DBSCAN."
   ]
  },
  {
   "cell_type": "code",
   "execution_count": 46,
   "metadata": {},
   "outputs": [
    {
     "data": {
      "text/plain": [
       "25322.739398293725"
      ]
     },
     "execution_count": 46,
     "metadata": {},
     "output_type": "execute_result"
    }
   ],
   "source": [
    "# It is also known as the Variance Ratio Criterion\n",
    "calinski_harabasz_score(data8, labels)"
   ]
  },
  {
   "cell_type": "markdown",
   "metadata": {},
   "source": [
    "# End"
   ]
  }
 ],
 "metadata": {
  "kernelspec": {
   "display_name": "Python 3",
   "language": "python",
   "name": "python3"
  },
  "language_info": {
   "codemirror_mode": {
    "name": "ipython",
    "version": 3
   },
   "file_extension": ".py",
   "mimetype": "text/x-python",
   "name": "python",
   "nbconvert_exporter": "python",
   "pygments_lexer": "ipython3",
   "version": "3.6.5"
  }
 },
 "nbformat": 4,
 "nbformat_minor": 2
}
